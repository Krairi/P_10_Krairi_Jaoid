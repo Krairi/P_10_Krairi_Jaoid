{
 "cells": [
  {
   "cell_type": "markdown",
   "id": "7507f712",
   "metadata": {},
   "source": [
    "# Projet 10 : Développez un chatbot pour réserver des vacances"
   ]
  },
  {
   "cell_type": "markdown",
   "id": "08e94626",
   "metadata": {},
   "source": [
    "## Importation des librairie"
   ]
  },
  {
   "cell_type": "code",
   "execution_count": 1,
   "id": "1cdbbfb8",
   "metadata": {},
   "outputs": [],
   "source": [
    "import os\n",
    "import uuid\n",
    "import time\n",
    "import json\n",
    "import numpy as np \n",
    "import pandas as pd\n",
    "from azure.cognitiveservices.language.luis.authoring import LUISAuthoringClient\n",
    "from azure.cognitiveservices.language.luis.runtime import LUISRuntimeClient\n",
    "from msrest.authentication import CognitiveServicesCredentials\n",
    "from azure.cognitiveservices.language.luis.authoring.models import ApplicationCreateObject\n",
    "import matplotlib.pyplot as plt \n",
    "import seaborn as sns \n",
    "import plotly.express as px\n",
    "pd.options.mode.chained_assignment = None"
   ]
  },
  {
   "cell_type": "markdown",
   "id": "2f8b42b6",
   "metadata": {},
   "source": [
    "## Dèfinir le nouveau jeu de données"
   ]
  },
  {
   "cell_type": "markdown",
   "id": "4f1817d7",
   "metadata": {},
   "source": [
    "Comme ce projet est itératif, nous avons limité les fonctionnalités de la V1 du chatbot. La V1 devra pouvoir identifier dans la demande de l’utilisateur les cinq éléments suivants :\n",
    "\n",
    ">- Ville de départ\n",
    ">- Ville de destination\n",
    ">- Date aller souhaitée du vol\n",
    ">- Date retour souhaitée du vol\n",
    ">- Budget maximum pour le prix total des billets"
   ]
  },
  {
   "cell_type": "markdown",
   "id": "3f850cf3",
   "metadata": {},
   "source": [
    "Pour créer ma nouvelle base de données, j'aurai besoin des champs suivant :\n",
    ">- text, \n",
    ">- intentName,\n",
    ">- entityLabels,\n",
    ">- startCharIndex,\n",
    ">- endCharIndex,\n",
    ">- entityName"
   ]
  },
  {
   "cell_type": "markdown",
   "id": "ee3b2826",
   "metadata": {},
   "source": [
    "## Définir mes fonctions"
   ]
  },
  {
   "cell_type": "code",
   "execution_count": 2,
   "id": "d71e68b0",
   "metadata": {},
   "outputs": [],
   "source": [
    "def entity_char(entity_name, frame):\n",
    "    # Charger une partie de l'entité du cadre\n",
    "    entities = frame['labels']['frames'][0]['info']\n",
    "    str_entire = frame['labels']['frames'][0]['info'][entity_name][0]['val'].lower()\n",
    "    return str_entire.split('.')[0]\n",
    "\n",
    "def entity_data(entity_char, text, entity_name):\n",
    "    start_index = max(text.find(entity_char), 0)\n",
    "    end_char_index = max(text.find(entity_char) + len(entity_char) - 1, 0)\n",
    "    return {'startCharIndex': start_index, 'endCharIndex': end_char_index, 'entityName': entity_name}\n",
    "\n",
    "def entity_data_dict(frame, pf_entities, intent_name):\n",
    "    text = frame['text'].lower()\n",
    "    entities = frame['labels']['frames'][0]['info']    \n",
    "    entity_list = []\n",
    "    for entity_name in pf_entities:\n",
    "        # Vérifiez si des entités existent\n",
    "        if entity_name in entities.keys():\n",
    "            # Vérifiez si la valeur n’est pas -1\n",
    "            if entity_char(entity_name, frame)!='-1':\n",
    "                entity_list.append(entity_data(entity_char(entity_name, frame), text, entity_name))\n",
    "    dict_output = {\n",
    "        \"text\": text,\n",
    "        \"intentName\": intent_name,\n",
    "        \"entityLabels\": entity_list\n",
    "    }\n",
    "    return dict_output"
   ]
  },
  {
   "cell_type": "markdown",
   "id": "29204969",
   "metadata": {},
   "source": [
    "## Charger mon jeu de données brute"
   ]
  },
  {
   "cell_type": "code",
   "execution_count": 3,
   "id": "f225ac68",
   "metadata": {},
   "outputs": [],
   "source": [
    "dataframe = pd.read_json(\"data/frames.json\")\n",
    "# Dèfinir les entités à extraire\n",
    "pf_entities = ['or_city','dst_city','str_date','end_date','budget']"
   ]
  },
  {
   "cell_type": "markdown",
   "id": "fec99ed5",
   "metadata": {},
   "source": [
    "## Créer mon dictionnaire"
   ]
  },
  {
   "cell_type": "code",
   "execution_count": 4,
   "id": "9ed936d3",
   "metadata": {},
   "outputs": [],
   "source": [
    "dictionnaire = [\n",
    "    entity_data_dict(\n",
    "        dataframe['turns'][x][0], pf_entities, \"BookFlightIntent\"\n",
    "    ) for x in range(0, len(dataframe['turns']))\n",
    "]"
   ]
  },
  {
   "cell_type": "markdown",
   "id": "bfaee510",
   "metadata": {},
   "source": [
    "## Créer mes nouveaux jeux de données"
   ]
  },
  {
   "cell_type": "code",
   "execution_count": 5,
   "id": "1318e63b",
   "metadata": {},
   "outputs": [],
   "source": [
    "if not os.path.exists(\"data/frames_train.json\"):\n",
    "    frames_train = dictionnaire[:-40]\n",
    "\n",
    "    with open('data/frames_train.json', 'w') as f:\n",
    "        f.write(json.dumps(frames_train))\n",
    "else:\n",
    "    with open(\"data/frames_train.json\") as f:\n",
    "        frames_train = json.load(f)\n",
    "\n",
    "if not os.path.exists(\"data/frames_test.json\"):\n",
    "    frames_test = dictionnaire[-40:]\n",
    "\n",
    "    with open('data/frames_test.json', 'w') as f:\n",
    "        f.write(json.dumps(frames_test))\n",
    "else:\n",
    "    with open(\"data/frames_test.json.json\") as f:\n",
    "        frames_test = json.load(f)"
   ]
  },
  {
   "cell_type": "markdown",
   "id": "ad0d6614",
   "metadata": {},
   "source": [
    "## Explication synthétique du modèle LUIS\n",
    "\n",
    "Le langage de compréhension (LUIS) nous permet d’appliquer un traitement en langage naturel au texte en langage naturel des conversations d’un utilisateur afin d’en prédire le sens général, et d’en extraire des informations détaillées et pertinentes.\n",
    "\n",
    "Une application LUIS stocke le modèle de traitement en langage naturel contenant les intentions, les entités et les exemples d'énoncés."
   ]
  },
  {
   "cell_type": "markdown",
   "id": "414b53a7",
   "metadata": {},
   "source": [
    "## Créer une application LUIS"
   ]
  },
  {
   "cell_type": "code",
   "execution_count": 6,
   "id": "7f4127ba",
   "metadata": {},
   "outputs": [],
   "source": [
    "# Créez des variables pour stocker votre clé de création et les noms de vos ressources\n",
    "authoring_key = 'd06c7abdf7444166b6fd614a51cb285c'\n",
    "authoring_endpoint = 'https://authojk.cognitiveservices.azure.com/'\n",
    "prediction_key = '5f66a9bb70e14d7892bddee92bd9196c'\n",
    "prediction_endpoint = 'https://predictjkrai.cognitiveservices.azure.com/'\n",
    "\n",
    "# Créez des variables pour stocker vos points de terminaison, le nom de l'application, la version et le nom de l'intention\n",
    "# J'ai utilisé un UUID pour éviter les collisions de noms\n",
    "app_name = \"FlyMe-LUIS\" + str(uuid.uuid4())\n",
    "version_id = \"0.1\"\n",
    "intent_name = \"BookFlightIntent\""
   ]
  },
  {
   "cell_type": "code",
   "execution_count": 7,
   "id": "0cab143d",
   "metadata": {},
   "outputs": [
    {
     "name": "stdout",
     "output_type": "stream",
     "text": [
      "Created LUIS app with ID d5aedfec-a268-4ada-89d3-b002561d9180\n"
     ]
    }
   ],
   "source": [
    "\n",
    "# Créer un client\n",
    "client = LUISAuthoringClient(authoring_endpoint, CognitiveServicesCredentials(authoring_key))\n",
    "\n",
    "# Définir les bases de l’application\n",
    "app_definition = ApplicationCreateObject(name=app_name, initial_version_id=version_id, culture='en-us')\n",
    "\n",
    "# Créer une application\n",
    "app_id = client.apps.add(app_definition)\n",
    "\n",
    "# Obtenir l’identifiant de l’application - nécessaire pour tous les autres changements\n",
    "print(\"Created LUIS app with ID {}\".format(app_id))"
   ]
  },
  {
   "cell_type": "markdown",
   "id": "e37b726c",
   "metadata": {},
   "source": [
    "L’objectif principal du modèle d’application LUIS est l’intention. L’intention est l'objectif exprimé dans l'énoncé d'un utilisateur. Un utilisateur peut poser une question ou émettre un énoncé en souhaitant obtenir une réponse prévue."
   ]
  },
  {
   "cell_type": "code",
   "execution_count": 8,
   "id": "d0d54f8b",
   "metadata": {},
   "outputs": [
    {
     "data": {
      "text/plain": [
       "'e78d4bd2-1af5-4bda-80af-a34fd7f2b312'"
      ]
     },
     "execution_count": 8,
     "metadata": {},
     "output_type": "execute_result"
    }
   ],
   "source": [
    "# Ajouter une nouvelle intention\n",
    "client.model.add_intent(app_id, version_id, intent_name)"
   ]
  },
  {
   "cell_type": "markdown",
   "id": "752e8ec3",
   "metadata": {},
   "source": [
    "Les entités, elles, ne sont pas obligatoires, elles sont présentes dans la plupart des applications. L’entité extrait des informations à partir de l’énoncé utilisateur, qui sont nécessaires pour répondre à l’intention de l’utilisateur. Il existe plusieurs types d’entités prédéfinies et personnalisées, chacune avec leurs propres modèles DTO (Data Transformation Object). Les entités prédéfinies courantes à ajouter à notre application incluent number, datetimeV2, geographyV2 et ordinal.\n",
    "\n",
    "Il est important de savoir que les entités ne sont pas marquées avec une intention. Elles peuvent s’appliquer à de nombreuses intentions. Seuls les exemples d’énoncés utilisateur sont marqués pour une intention unique spécifique."
   ]
  },
  {
   "cell_type": "code",
   "execution_count": 9,
   "id": "248c25e9",
   "metadata": {},
   "outputs": [],
   "source": [
    "# Ajouter les entités\n",
    "model_id = client.model.add_entity(app_id, version_id, name=\"or_city\")\n",
    "model_id = client.model.add_entity(app_id, version_id, name=\"dst_city\")\n",
    "model_id = client.model.add_entity(app_id, version_id, name=\"end_date\")\n",
    "model_id = client.model.add_entity(app_id, version_id, name=\"str_date\")\n",
    "model_id = client.model.add_entity(app_id, version_id, name=\"budget\")"
   ]
  },
  {
   "cell_type": "markdown",
   "id": "06768e65",
   "metadata": {},
   "source": [
    "Pour déterminer l’intention d’un énoncé et extraire des entités, l’application a besoin d’exemples d’énoncés. Les exemples doivent cibler une intention spécifique et unique, et doivent marquer toutes les entités personnalisées. Les entités prédéfinies n’ont pas besoin d’être marquées."
   ]
  },
  {
   "cell_type": "code",
   "execution_count": 10,
   "id": "922e0c00",
   "metadata": {},
   "outputs": [],
   "source": [
    "# Ajouter le jeu de données d'entraînement\n",
    "for x in range(0, len(frames_train)):\n",
    "    try:\n",
    "        client.examples.add(app_id, version_id, frames_train[x])\n",
    "    except Exception as e:\n",
    "        pass"
   ]
  },
  {
   "cell_type": "markdown",
   "id": "82250583",
   "metadata": {},
   "source": [
    "## Entraînement de l'application"
   ]
  },
  {
   "cell_type": "markdown",
   "id": "5cce72ea",
   "metadata": {},
   "source": [
    "Maintenant que le modèle est créé, l’application LUIS va être entraînée pour cette version du modèle. Un modèle entraîné peut être utilisé dans un conteneur ou publié dans les emplacements intermédiaires ou produits.\n",
    "\n",
    "Un petit modèle sera entraîné très rapidement. Pour les applications de niveau production, l’entraînement de l’application va devoir inclure un appel d’interrogation à la méthode get_status pour déterminer si l’entraînement a réussi. Tous les objets doivent réussir pour que l’entraînement soit considéré comme terminé."
   ]
  },
  {
   "cell_type": "code",
   "execution_count": 11,
   "id": "3150de40",
   "metadata": {},
   "outputs": [
    {
     "name": "stdout",
     "output_type": "stream",
     "text": [
      "Je vais commencer à former notre application...\n",
      "Entraînement réalisé\n"
     ]
    }
   ],
   "source": [
    "print(\"Je vais commencer à former notre application...\")\n",
    "\n",
    "async_training = client.train.train_version(app_id, version_id)\n",
    "is_trained = async_training.status == \"UpToDate\"\n",
    "\n",
    "trained_status = [\"UpToDate\", \"Success\"]\n",
    "while not is_trained:\n",
    "    time.sleep(1)\n",
    "    status = client.train.get_status(app_id, version_id)\n",
    "    is_trained = all(m.details.status in trained_status for m in status)\n",
    "    \n",
    "print(\"Entraînement réalisé\")"
   ]
  },
  {
   "cell_type": "markdown",
   "id": "8dd5f83a",
   "metadata": {},
   "source": [
    "Je vais publier l’application LUIS. Cela va me permettre de la publier à l’emplacement spécifié au point de terminaison. Notre application cliente utilise ce point de terminaison afin d’envoyer des énoncés utilisateur pour la prédiction de l’intention et l’extraction d’entité."
   ]
  },
  {
   "cell_type": "code",
   "execution_count": 12,
   "id": "8382764d",
   "metadata": {
    "scrolled": true
   },
   "outputs": [
    {
     "name": "stdout",
     "output_type": "stream",
     "text": [
      "Je commence à publier notre application...\n",
      "Notre application est publiée. Je peux maintenant aller la tester sur\n",
      "https://australiaeast.api.cognitive.microsoft.com/luis/v2.0/apps/d5aedfec-a268-4ada-89d3-b002561d9180?subscription-key=d06c7abdf7444166b6fd614a51cb285c&q=\n"
     ]
    }
   ],
   "source": [
    "print(\"Je commence à publier notre application...\")\n",
    "client.apps.update_settings(app_id, is_public=True)\n",
    "publish_result = client.apps.publish(app_id, version_id, is_staging=False)\n",
    "publish_result.as_dict()\n",
    "endpoint = publish_result.endpoint_url + \"?subscription-key=\" + authoring_key + \"&q=\"\n",
    "print(\"Notre application est publiée. Je peux maintenant aller la tester sur\\n{}\".format(endpoint))"
   ]
  },
  {
   "cell_type": "markdown",
   "id": "1271872d",
   "metadata": {},
   "source": [
    "Je vais créer une requête à adresser au runtime de prédiction. Cette requête va me retourner un objet PredictionResponse."
   ]
  },
  {
   "cell_type": "code",
   "execution_count": 13,
   "id": "0e1e98ad",
   "metadata": {},
   "outputs": [
    {
     "name": "stdout",
     "output_type": "stream",
     "text": [
      "Requête: looking to go from Paris to marseille. book me for july 15 to 28. let me know if its more than 800 because thats all i can afford\n",
      "Entités détectées:\n",
      "\t-> Entité 'marseille' (type: dst_city, score:99%)\n",
      "\t-> Entité '28' (type: end_date, score:99%)\n",
      "\t-> Entité 'paris' (type: or_city, score:99%)\n",
      "\t-> Entité 'july 15' (type: str_date, score:99%)\n"
     ]
    }
   ],
   "source": [
    "runtime_credentials = CognitiveServicesCredentials(prediction_key)\n",
    "client_runtime = LUISRuntimeClient(endpoint=prediction_endpoint, credentials=runtime_credentials)\n",
    "\n",
    "# Test avec un seul énoncé\n",
    "query = \"looking to go from Paris to marseille. book me for july 15 to 28. let me know if its more than 800 because thats all i can afford\"\n",
    "result = client_runtime.prediction.resolve(app_id, query, verbose=False)\n",
    "\n",
    "print(\"Requête: {}\".format(query))\n",
    "print(\"Entités détectées:\")\n",
    "for entity in result.entities:\n",
    "    print(\n",
    "        \"\\t-> Entité '{}' (type: {}, score:{:d}%)\".format(\n",
    "            entity.entity,\n",
    "            entity.type,\n",
    "            int(entity.additional_properties['score']*100)\n",
    "        ))"
   ]
  },
  {
   "cell_type": "markdown",
   "id": "34edcc6b",
   "metadata": {},
   "source": [
    "A prèsent, je vais calculé le score moyen de chaque entité dans notre fichier de test."
   ]
  },
  {
   "cell_type": "code",
   "execution_count": 14,
   "id": "6402fcaf",
   "metadata": {},
   "outputs": [
    {
     "name": "stdout",
     "output_type": "stream",
     "text": [
      "Score budgétaire moyen: 90.669705\n",
      "Score ville de destination moyen: 95.78516428571429\n",
      "Score date d'arrivè moyen: 99.74171\n",
      "Score ville d'origine moyen: 98.89881375\n",
      "Score date de départ d'origine moyen: 89.86147000000001\n"
     ]
    }
   ],
   "source": [
    "calc_budget = 0\n",
    "score_budget = 0\n",
    "calc_dst_city = 0\n",
    "score_dst_city = 0\n",
    "calc_or_city = 0\n",
    "score_or_city = 0\n",
    "calc_end_date = 0\n",
    "score_end_date = 0\n",
    "calc_str_date = 0\n",
    "score_str_date = 0\n",
    "\n",
    "for text in frames_test:\n",
    "    query = text['text']\n",
    "    result = client_runtime.prediction.resolve(app_id, query, verbose=False)\n",
    "    for entity in result.entities:\n",
    "        if \"budget\" == entity.type:\n",
    "            calc_budget += 1\n",
    "            score_budget += entity.additional_properties[\"score\"] * 100\n",
    "        if \"dst_city\" == entity.type:\n",
    "            calc_dst_city += 1\n",
    "            score_dst_city += entity.additional_properties[\"score\"] * 100\n",
    "        if \"end_date\" == entity.type:\n",
    "            calc_end_date += 1\n",
    "            score_end_date += entity.additional_properties[\"score\"] * 100\n",
    "        if \"or_city\" == entity.type:\n",
    "            calc_or_city += 1\n",
    "            score_or_city += entity.additional_properties[\"score\"] * 100\n",
    "        if \"str_date\" == entity.type:\n",
    "            calc_str_date += 1\n",
    "            score_str_date += entity.additional_properties[\"score\"] * 100\n",
    "print(\"Score budgétaire moyen: {}\".format(score_budget / calc_budget))\n",
    "print(\"Score ville de destination moyen: {}\".format(score_dst_city / calc_dst_city))\n",
    "print(\"Score date d'arrivè moyen: {}\".format(score_end_date / calc_end_date))\n",
    "print(\"Score ville d'origine moyen: {}\".format(score_or_city / calc_or_city))\n",
    "print(\"Score date de départ d'origine moyen: {}\".format(score_str_date / calc_str_date))"
   ]
  }
 ],
 "metadata": {
  "interpreter": {
   "hash": "97a6778829633aec1623e5e89caac60adad466f77ea84aa4955c24e4b3182a18"
  },
  "kernelspec": {
   "display_name": "Python 3.8.2 ('.venv': venv)",
   "language": "python",
   "name": "python3"
  },
  "language_info": {
   "codemirror_mode": {
    "name": "ipython",
    "version": 3
   },
   "file_extension": ".py",
   "mimetype": "text/x-python",
   "name": "python",
   "nbconvert_exporter": "python",
   "pygments_lexer": "ipython3",
   "version": "3.8.2"
  }
 },
 "nbformat": 4,
 "nbformat_minor": 5
}
